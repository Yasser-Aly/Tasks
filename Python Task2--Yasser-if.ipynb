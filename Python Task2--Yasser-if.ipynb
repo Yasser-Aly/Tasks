{
 "cells": [
  {
   "cell_type": "code",
   "execution_count": 13,
   "metadata": {},
   "outputs": [
    {
     "name": "stdout",
     "output_type": "stream",
     "text": [
      "Total bill is Rs :\n",
      "2200.0\n"
     ]
    }
   ],
   "source": [
    "No_of_Unit = float(input (\"No. of Unit : \"))\n",
    "\n",
    "if No_of_Unit <=100 :\n",
    "    print(\"No Charge\")\n",
    "elif No_of_Unit <=200:\n",
    "    print(\"Total bill is Rs :\"+ str (No_of_Unit * 5))\n",
    "elif No_of_Unit >200:\n",
    "    print(\"Total bill is Rs :\"); print(No_of_Unit * 10)\n",
    "else :\n",
    "    print(\"Check your entry\")\n",
    "    "
   ]
  },
  {
   "cell_type": "code",
   "execution_count": 17,
   "metadata": {},
   "outputs": [
    {
     "name": "stdout",
     "output_type": "stream",
     "text": [
      "Grade Is 'A'\n"
     ]
    }
   ],
   "source": [
    "Persentage = float(input (\"persintage % :   \"))\n",
    "\n",
    "if Persentage <60 :\n",
    "    print(\"Grade Is 'D'\")\n",
    "elif Persentage <=80:\n",
    "    print(\"Grade Is 'C'\")\n",
    "elif Persentage <=90:\n",
    "    print(\"Grade Is 'B'\")\n",
    "elif Persentage >90:\n",
    "    print(\"Grade Is 'A'\")\n",
    "else : \n",
    "    print(\"Check your entry\")\n",
    "    "
   ]
  },
  {
   "cell_type": "code",
   "execution_count": 3,
   "metadata": {},
   "outputs": [
    {
     "name": "stdout",
     "output_type": "stream",
     "text": [
      "Tax amount is \n",
      "30000.0\n"
     ]
    }
   ],
   "source": [
    "BIKE_COST = float(input (\"Insert bike cost :   \"))\n",
    "\n",
    "if BIKE_COST <=50000 :\n",
    "    print(\"Tax amount is \"); print (float (BIKE_COST*0.05))\n",
    "elif BIKE_COST <=100000 :\n",
    "    print(\"Tax amount is \"); print (float (BIKE_COST*0.1))\n",
    "elif BIKE_COST >100000 :\n",
    "    print(\"Tax amount is \"); print (float (BIKE_COST*0.15))\n",
    "else : \n",
    "    print(\"Check your entry\")\n",
    "    "
   ]
  },
  {
   "cell_type": "code",
   "execution_count": 8,
   "metadata": {},
   "outputs": [
    {
     "name": "stdout",
     "output_type": "stream",
     "text": [
      "the largest no. is : 90\n"
     ]
    }
   ],
   "source": [
    "x = int(input ('insert first no. :'))\n",
    "y = int(input ('insert seconed no. :'))\n",
    "print ('the largest no. is : '+ str(x)) if x>y else print('the largest no. is : '+ str(y))\n",
    "# print ('the largest no. is : );print (x) if x>y else print('the largest no. is : '+ str(y))"
   ]
  },
  {
   "cell_type": "code",
   "execution_count": 13,
   "metadata": {},
   "outputs": [
    {
     "name": "stdout",
     "output_type": "stream",
     "text": [
      "Positive no. \n"
     ]
    }
   ],
   "source": [
    "x = float(input ('insert first no. :'))\n",
    "print ('Positive no. ' ) if x>=0 else print('Negative no.')"
   ]
  },
  {
   "cell_type": "code",
   "execution_count": 46,
   "metadata": {},
   "outputs": [
    {
     "name": "stdout",
     "output_type": "stream",
     "text": [
      "odd\n"
     ]
    }
   ],
   "source": [
    "x = int(input ('insert first no. :'))\n",
    "print ('even ') if x%2==False else print('odd')"
   ]
  },
  {
   "cell_type": "code",
   "execution_count": 58,
   "metadata": {},
   "outputs": [
    {
     "name": "stdout",
     "output_type": "stream",
     "text": [
      "x is the biggest no. \n"
     ]
    }
   ],
   "source": [
    "x = int(input ('insert first no. :'))\n",
    "y = int(input ('insert seconed no. :'))\n",
    "z = int(input ('insert Third no. :'))\n",
    "if x>y :\n",
    "    pass\n",
    "    if x>z :\n",
    "        print(\"x is the biggest no. \")\n",
    "if y>x :\n",
    "    pass\n",
    "    if y>z :\n",
    "        print(\"y is the biggest no. \")\n",
    "if z>x :\n",
    "    pass\n",
    "    if z>y :\n",
    "        print(\"z is the biggest no. \")\n",
    "\n"
   ]
  },
  {
   "cell_type": "code",
   "execution_count": 80,
   "metadata": {},
   "outputs": [
    {
     "name": "stdout",
     "output_type": "stream",
     "text": [
      "0.8\n",
      "Good news , you are accepted in exam\n"
     ]
    }
   ],
   "source": [
    "Working_Days = int (input('working days : '))\n",
    "upsent_Days = int (input('upsent days : '))\n",
    "attendance_persentage = 1 - (upsent_Days/Working_Days)\n",
    "print(attendance_persentage)\n",
    "print ('Sorry, you cant sit in exam')if attendance_persentage<0.75 else print('Good news , you are accepted in exam')\n",
    "\n"
   ]
  },
  {
   "cell_type": "code",
   "execution_count": 89,
   "metadata": {},
   "outputs": [
    {
     "name": "stdout",
     "output_type": "stream",
     "text": [
      "Grade Is 'A+'\n"
     ]
    }
   ],
   "source": [
    "Persentage = float(input (\"persintage % :   \"))\n",
    "\n",
    "if Persentage <25 :\n",
    "    print(\"Grade Is 'D'\")\n",
    "elif Persentage <45:\n",
    "    print(\"Grade Is 'C'\")\n",
    "elif Persentage <50:\n",
    "    print(\"Grade Is 'B'\")\n",
    "elif Persentage <60:\n",
    "    print(\"Grade Is 'B+'\")\n",
    "elif Persentage <=80:\n",
    "    print(\"Grade Is 'A'\")\n",
    "elif Persentage >80:\n",
    "    print(\"Grade Is 'A+'\")\n",
    "else : \n",
    "    print(\"Check your entry\")"
   ]
  }
 ],
 "metadata": {
  "kernelspec": {
   "display_name": "Python 3",
   "language": "python",
   "name": "python3"
  },
  "language_info": {
   "codemirror_mode": {
    "name": "ipython",
    "version": 3
   },
   "file_extension": ".py",
   "mimetype": "text/x-python",
   "name": "python",
   "nbconvert_exporter": "python",
   "pygments_lexer": "ipython3",
   "version": "3.11.0"
  }
 },
 "nbformat": 4,
 "nbformat_minor": 2
}
