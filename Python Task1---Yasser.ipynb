{
 "cells": [
  {
   "cell_type": "code",
   "execution_count": null,
   "id": "b9e58d68",
   "metadata": {},
   "outputs": [],
   "source": [
    "# Create a Boolean variable named x\n",
    "\n",
    "x = bool(input()) \n",
    "print(x)\n",
    "print (type(x))\n"
   ]
  },
  {
   "cell_type": "code",
   "execution_count": null,
   "id": "f550dc6e",
   "metadata": {},
   "outputs": [],
   "source": [
    "# Create an integer variable named y\n",
    "\n",
    "y = int(input())   \n",
    "print(y)\n",
    "print (type(y))"
   ]
  },
  {
   "cell_type": "code",
   "execution_count": null,
   "id": "ecefd835",
   "metadata": {},
   "outputs": [],
   "source": [
    "# Create a float variable named z\n",
    "\n",
    "z = float(input()) \n",
    "print(z)\n",
    "print (type(z))"
   ]
  },
  {
   "cell_type": "code",
   "execution_count": 21,
   "id": "c5789dbb",
   "metadata": {},
   "outputs": [],
   "source": [
    "# Create a string variable names s\n",
    "\n",
    "s = input()     \n",
    "print(s)\n",
    "print (type(s))"
   ]
  },
  {
   "cell_type": "code",
   "execution_count": null,
   "id": "34a3f052",
   "metadata": {},
   "outputs": [],
   "source": [
    "# Can we convert the str to int ? Yes  --- Just put int before value of the variable \n",
    "\n",
    "s = int(input())      \n",
    "print(s)\n",
    "print (type(s))\n"
   ]
  },
  {
   "cell_type": "code",
   "execution_count": 61,
   "id": "cf2bdc73",
   "metadata": {},
   "outputs": [
    {
     "name": "stdout",
     "output_type": "stream",
     "text": [
      "[1, 2, 3, 4, 5]\n",
      "<class 'list'>\n"
     ]
    }
   ],
   "source": [
    "# Create a list of numbers from 1 to 5\n",
    "\n",
    "numbers = [1,2,3,4,5]\n",
    "print(numbers)\n",
    "print (type(numbers))\n",
    "\n"
   ]
  },
  {
   "cell_type": "code",
   "execution_count": 60,
   "id": "c246c649",
   "metadata": {},
   "outputs": [
    {
     "name": "stdout",
     "output_type": "stream",
     "text": [
      "(10, 11, 12, 13, 14, 15)\n",
      "<class 'tuple'>\n"
     ]
    }
   ],
   "source": [
    "# Create a tuple from 10 to 15\n",
    "\n",
    "numbers = (10,11,12,13,14,15)\n",
    "print(numbers)\n",
    "print (type(numbers))\n",
    "\n"
   ]
  },
  {
   "cell_type": "code",
   "execution_count": 58,
   "id": "d6bdff3d",
   "metadata": {},
   "outputs": [
    {
     "name": "stdout",
     "output_type": "stream",
     "text": [
      "(1, 2, 3, 4, 5)\n",
      "<class 'tuple'>\n"
     ]
    }
   ],
   "source": [
    "# Convert the list to tuple  --- Just put tuple before list value \n",
    "\n",
    "numbers = tuple([1,2,3,4,5])\n",
    "print(numbers)\n",
    "print (type(numbers))"
   ]
  },
  {
   "cell_type": "code",
   "execution_count": 59,
   "id": "6b0663c5",
   "metadata": {},
   "outputs": [
    {
     "name": "stdout",
     "output_type": "stream",
     "text": [
      "{'name': 'ahmed', 'age': 25, 'Salary': 10000}\n",
      "<class 'dict'>\n"
     ]
    }
   ],
   "source": [
    "# Create a dict of 3 values\n",
    "\n",
    "employee = {'name'   : 'ahmed',\n",
    "            'age'    : 25  ,\n",
    "             'Salary': 10000}\n",
    "\n",
    "# employee = {'name'   : input('name : '),\n",
    "#             'age'    : int(input('age : ') ) ,\n",
    "#              'Salary': int(input(\"salary : \") )}\n",
    "print(employee)\n",
    "print (type(employee))"
   ]
  },
  {
   "cell_type": "code",
   "execution_count": 22,
   "id": "56b2cfd1",
   "metadata": {},
   "outputs": [
    {
     "name": "stdout",
     "output_type": "stream",
     "text": [
      "18\n",
      "11\n"
     ]
    }
   ],
   "source": [
    "# Can we use semi colon ; with python ---- --------(Youtube Search )\n",
    "\n",
    "Yes\n",
    "\n",
    "A=5;B=6;C=7\n",
    "D=A+B+C\n",
    "print(D)\n",
    "print(A+B)\n"
   ]
  },
  {
   "cell_type": "code",
   "execution_count": 26,
   "id": "8f2c7dec",
   "metadata": {},
   "outputs": [
    {
     "ename": "SyntaxError",
     "evalue": "invalid syntax. Maybe you meant '==' or ':=' instead of '='? (1554073648.py, line 3)",
     "output_type": "error",
     "traceback": [
      "\u001b[1;36m  Cell \u001b[1;32mIn[26], line 3\u001b[1;36m\u001b[0m\n\u001b[1;33m    A=5,B=6,C=7\u001b[0m\n\u001b[1;37m    ^\u001b[0m\n\u001b[1;31mSyntaxError\u001b[0m\u001b[1;31m:\u001b[0m invalid syntax. Maybe you meant '==' or ':=' instead of '='?\n"
     ]
    }
   ],
   "source": [
    "# Why there is an error ?--------------what's ':=' mean?\n",
    "\n",
    "A=5,B=6,C=7\n",
    "D=A+B+C\n",
    "print(D)"
   ]
  },
  {
   "cell_type": "code",
   "execution_count": null,
   "id": "4d6d8958",
   "metadata": {},
   "outputs": [],
   "source": [
    "# Python is interpreted or compiled ?\n",
    "\n",
    "interpreted ---Line by line\n"
   ]
  },
  {
   "cell_type": "code",
   "execution_count": null,
   "id": "cd2407e0",
   "metadata": {},
   "outputs": [],
   "source": [
    "# What is the differences between low level & high level\n",
    "\n",
    "High  ـــــــــ                           Low\n",
    "Easy                                Hard\n",
    "nearst to Human lang.              nearst to Machine lang. \n",
    "assemplar translator               compiler/interpreter translator\n",
    "More Memory                        Less Memory\n",
    "Programming Lang.                  Machine Lang."
   ]
  },
  {
   "cell_type": "code",
   "execution_count": null,
   "id": "511cc87b",
   "metadata": {},
   "outputs": [],
   "source": [
    "# What is the differences between = , ==\n",
    "\n",
    "= ---- equal\n",
    "== ---- checks for equality\n"
   ]
  },
  {
   "cell_type": "code",
   "execution_count": null,
   "id": "0a251c77",
   "metadata": {},
   "outputs": [],
   "source": [
    "# What do we mean by using !=\n",
    "\n",
    "!= ---- Not equal"
   ]
  },
  {
   "cell_type": "code",
   "execution_count": null,
   "id": "4af53198",
   "metadata": {},
   "outputs": [],
   "source": [
    "# What is the operator precedence\n",
    "\n",
    "priorities to apply operators\n"
   ]
  },
  {
   "cell_type": "code",
   "execution_count": null,
   "id": "e88eaa6b",
   "metadata": {},
   "outputs": [],
   "source": [
    "# Create a variable x with value of 10\n",
    "\n",
    "# x = 10"
   ]
  },
  {
   "cell_type": "code",
   "execution_count": 1,
   "id": "63549c1f",
   "metadata": {},
   "outputs": [
    {
     "name": "stdout",
     "output_type": "stream",
     "text": [
      "25\n"
     ]
    }
   ],
   "source": [
    "# Increase x value by 15 using assignment operators\n",
    "x = 10\n",
    "x += 15\n",
    "print (x)"
   ]
  },
  {
   "cell_type": "code",
   "execution_count": 10,
   "id": "a5b8e16a",
   "metadata": {},
   "outputs": [
    {
     "name": "stdout",
     "output_type": "stream",
     "text": [
      "2.0\n"
     ]
    }
   ],
   "source": [
    "# Divide the x value by 5 using assignment operators\n",
    "\n",
    "# x = 10\n",
    "# x = x/5\n",
    "\n",
    "# print(x)\n",
    "\n",
    "x = 10\n",
    "y = x/5\n",
    "\n",
    "print(y)  \n",
    "\n",
    "# Value of divide is float data type"
   ]
  },
  {
   "cell_type": "code",
   "execution_count": 11,
   "id": "c3a89819",
   "metadata": {},
   "outputs": [
    {
     "name": "stdout",
     "output_type": "stream",
     "text": [
      "1.0\n"
     ]
    }
   ],
   "source": [
    "# Multiply the x value by 10 using assignment operator\n",
    "\n",
    "x = 10\n",
    "y = x/10\n",
    "\n",
    "print(y) "
   ]
  },
  {
   "cell_type": "code",
   "execution_count": 12,
   "id": "af607c3f",
   "metadata": {},
   "outputs": [
    {
     "name": "stdout",
     "output_type": "stream",
     "text": [
      "1\n"
     ]
    }
   ],
   "source": [
    "# Get module of x on 3 using assignment operators\n",
    "x = 10\n",
    "y = x%3\n",
    "\n",
    "print(y) "
   ]
  },
  {
   "cell_type": "code",
   "execution_count": 13,
   "id": "e38bf87b",
   "metadata": {},
   "outputs": [
    {
     "name": "stdout",
     "output_type": "stream",
     "text": [
      "3\n"
     ]
    }
   ],
   "source": [
    "# Using python print the module of 11 to 4\n",
    "x = 11\n",
    "y = x%4\n",
    "\n",
    "print(y) \n"
   ]
  },
  {
   "cell_type": "code",
   "execution_count": 14,
   "id": "8e110d52",
   "metadata": {},
   "outputs": [
    {
     "name": "stdout",
     "output_type": "stream",
     "text": [
      "8\n"
     ]
    }
   ],
   "source": [
    "# Print the exponent of 2,3\n",
    "\n",
    "print(2**3)\n"
   ]
  },
  {
   "cell_type": "code",
   "execution_count": 17,
   "id": "cf099fc3",
   "metadata": {},
   "outputs": [
    {
     "name": "stdout",
     "output_type": "stream",
     "text": [
      "3.6666666666666665\n"
     ]
    }
   ],
   "source": [
    "# Divide 11 by 3 using python division\n",
    "\n",
    "x=11\n",
    "y=3\n",
    "\n",
    "z = x/y\n",
    "\n",
    "print (z)\n",
    "\n"
   ]
  },
  {
   "cell_type": "code",
   "execution_count": 18,
   "id": "d42ecb55",
   "metadata": {},
   "outputs": [
    {
     "name": "stdout",
     "output_type": "stream",
     "text": [
      "3\n"
     ]
    }
   ],
   "source": [
    "# Can we divide 11 by 3 and get an integer number ?\n",
    "\n",
    "x=11\n",
    "y=3\n",
    "\n",
    "z = int(x/y)\n",
    "\n",
    "print (z)\n"
   ]
  },
  {
   "cell_type": "code",
   "execution_count": 44,
   "id": "2c2afe2c",
   "metadata": {},
   "outputs": [],
   "source": [
    "# Check if 10 is bigger than 15 or not\n",
    "\n",
    "if 10>15 : pass\n"
   ]
  },
  {
   "cell_type": "code",
   "execution_count": 40,
   "id": "fb263d28",
   "metadata": {},
   "outputs": [
    {
     "name": "stdout",
     "output_type": "stream",
     "text": [
      "x is smaller than 15\n"
     ]
    }
   ],
   "source": [
    "# If 10 is not bigger than15 print x is smaller than 15\n",
    "\n",
    "x=10\n",
    "\n",
    "if not x>15 :\n",
    "    print (\"x is smaller than 15\")\n",
    "\n",
    "    \n"
   ]
  },
  {
   "cell_type": "code",
   "execution_count": null,
   "id": "dc810f80",
   "metadata": {},
   "outputs": [],
   "source": [
    "# In which cases we will use all\n",
    "\n",
    "when we use if with each condition\n"
   ]
  },
  {
   "cell_type": "code",
   "execution_count": null,
   "id": "b58f255f",
   "metadata": {},
   "outputs": [],
   "source": [
    "# What is the differences between all , and\n",
    "\n",
    "all --- using if before each condition even condition True or fals\n",
    "and --- all conditions should be True "
   ]
  },
  {
   "cell_type": "code",
   "execution_count": null,
   "id": "cc1c5be2",
   "metadata": {},
   "outputs": [],
   "source": [
    "# What is the differences between any , or\n",
    "\n",
    "the same\n",
    "\n"
   ]
  },
  {
   "cell_type": "code",
   "execution_count": null,
   "id": "ef522fb4",
   "metadata": {},
   "outputs": [],
   "source": [
    "# If we need all the conditions to be true we will use ….\n",
    "\n",
    "and "
   ]
  },
  {
   "cell_type": "code",
   "execution_count": null,
   "id": "a92d119b",
   "metadata": {},
   "outputs": [],
   "source": [
    "# What is the differences between if , elif\n",
    "\n",
    "if -- saying condition\n",
    "elif --- saying if privious conditions not true try this one"
   ]
  },
  {
   "cell_type": "code",
   "execution_count": null,
   "id": "334aa6d7",
   "metadata": {},
   "outputs": [],
   "source": [
    "# What is the differences between elif else\n",
    "\n",
    "elif --- saying if privious conditions not true try this one\n",
    "else --- saying last try if there are no privious true condithions\n",
    "\n"
   ]
  },
  {
   "cell_type": "code",
   "execution_count": null,
   "id": "d7888b89",
   "metadata": {},
   "outputs": [],
   "source": [
    "# Can we use more than one elif\n",
    "Yes"
   ]
  },
  {
   "cell_type": "code",
   "execution_count": null,
   "id": "e153b6d2",
   "metadata": {},
   "outputs": [],
   "source": [
    "Can we use more than one else\n",
    "No"
   ]
  },
  {
   "cell_type": "code",
   "execution_count": 47,
   "id": "48a98b17",
   "metadata": {},
   "outputs": [
    {
     "name": "stdout",
     "output_type": "stream",
     "text": [
      "y\n"
     ]
    }
   ],
   "source": [
    "# write s simple ternary operator\n",
    "\n",
    "x = 10\n",
    "y = 15\n",
    "print(\"x\") if x > y else print(\"y\")"
   ]
  },
  {
   "cell_type": "code",
   "execution_count": null,
   "id": "36b5dbfe",
   "metadata": {},
   "outputs": [],
   "source": [
    "# in elif , python will check all the conditions no matter what ?\n",
    "python didn't check other elif conditions if there is True one\n"
   ]
  },
  {
   "cell_type": "code",
   "execution_count": null,
   "id": "b7138302",
   "metadata": {},
   "outputs": [],
   "source": [
    "# in elif we use else for ... ?\n",
    "false condition"
   ]
  },
  {
   "cell_type": "code",
   "execution_count": null,
   "id": "07c7d804",
   "metadata": {},
   "outputs": [],
   "source": [
    "# if we have this list [2,4,6,8,10] :"
   ]
  },
  {
   "cell_type": "code",
   "execution_count": 48,
   "id": "f7f15b1e",
   "metadata": {},
   "outputs": [
    {
     "name": "stdout",
     "output_type": "stream",
     "text": [
      "Yes\n"
     ]
    }
   ],
   "source": [
    "# check to see if 4 in this list or not\n",
    "\n",
    "x= [2,4,6,8,10]\n",
    "if 4 in x :print (\"Yes\")"
   ]
  },
  {
   "cell_type": "code",
   "execution_count": 49,
   "id": "adfa9053",
   "metadata": {},
   "outputs": [
    {
     "name": "stdout",
     "output_type": "stream",
     "text": [
      "Yes\n"
     ]
    }
   ],
   "source": [
    "# check to see if 4 and 6 in this list on not\n",
    "\n",
    "x= [2,4,6,8,10]\n",
    "if 4 and 6 in x :print (\"Yes\")\n"
   ]
  },
  {
   "cell_type": "code",
   "execution_count": 50,
   "id": "629057db",
   "metadata": {},
   "outputs": [
    {
     "name": "stdout",
     "output_type": "stream",
     "text": [
      "Yes\n"
     ]
    }
   ],
   "source": [
    "# check to see if 3 or 6 in this list\n",
    "\n",
    "x= [2,4,6,8,10]\n",
    "if 3 or 6 in x :print (\"Yes\")\n"
   ]
  },
  {
   "cell_type": "code",
   "execution_count": 56,
   "id": "1ea70109",
   "metadata": {},
   "outputs": [
    {
     "ename": "SyntaxError",
     "evalue": "invalid syntax (2571772115.py, line 3)",
     "output_type": "error",
     "traceback": [
      "\u001b[1;36m  Cell \u001b[1;32mIn[56], line 3\u001b[1;36m\u001b[0m\n\u001b[1;33m    if 2 and 4 and 5 in x print (\"Yes\") else  print (\"No\")\u001b[0m\n\u001b[1;37m                          ^\u001b[0m\n\u001b[1;31mSyntaxError\u001b[0m\u001b[1;31m:\u001b[0m invalid syntax\n"
     ]
    }
   ],
   "source": [
    "# check to see if 2 , 4 and 5 in this list\n",
    "x= [2,4,6,8,10]\n",
    "if 2 and 4 and 5 in x print (\"Yes\") else  print (\"No\")   ----------Why error\n"
   ]
  },
  {
   "cell_type": "code",
   "execution_count": 57,
   "id": "35ff83ec",
   "metadata": {},
   "outputs": [
    {
     "name": "stdout",
     "output_type": "stream",
     "text": [
      "No\n"
     ]
    }
   ],
   "source": [
    "# check to see if 2 , 4 and 5 in this list\n",
    "x= [2,4,6,8,10]\n",
    "print (\"Yes\")if 2 and 4 and 5 in x  else  print (\"No\")\n"
   ]
  },
  {
   "cell_type": "code",
   "execution_count": null,
   "id": "e4443343",
   "metadata": {},
   "outputs": [],
   "source": []
  }
 ],
 "metadata": {
  "kernelspec": {
   "display_name": "Python 3 (ipykernel)",
   "language": "python",
   "name": "python3"
  },
  "language_info": {
   "codemirror_mode": {
    "name": "ipython",
    "version": 3
   },
   "file_extension": ".py",
   "mimetype": "text/x-python",
   "name": "python",
   "nbconvert_exporter": "python",
   "pygments_lexer": "ipython3",
   "version": "3.11.4"
  }
 },
 "nbformat": 4,
 "nbformat_minor": 5
}
